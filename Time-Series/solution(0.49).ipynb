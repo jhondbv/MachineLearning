{
 "cells": [
  {
   "cell_type": "markdown",
   "id": "5b990e4b",
   "metadata": {},
   "source": [
    "https://www.kaggle.com/code/rinichristy/time-series-forecast-store-sales/notebook\n",
    "\n",
    "PUNTAJE : 0.49976"
   ]
  },
  {
   "cell_type": "markdown",
   "id": "3950902f",
   "metadata": {
    "papermill": {
     "duration": 0.009161,
     "end_time": "2022-06-12T15:59:49.385669",
     "exception": false,
     "start_time": "2022-06-12T15:59:49.376508",
     "status": "completed"
    },
    "tags": []
   },
   "source": [
    "## **Import the required libraries**"
   ]
  },
  {
   "cell_type": "code",
   "execution_count": 1,
   "id": "bee520e4",
   "metadata": {
    "_cell_guid": "b1076dfc-b9ad-4769-8c92-a6c4dae69d19",
    "_uuid": "8f2839f25d086af736a60e9eeb907d3b93b6e0e5",
    "execution": {
     "iopub.execute_input": "2022-06-12T15:59:49.407393Z",
     "iopub.status.busy": "2022-06-12T15:59:49.406936Z",
     "iopub.status.idle": "2022-06-12T15:59:50.496978Z",
     "shell.execute_reply": "2022-06-12T15:59:50.495969Z"
    },
    "papermill": {
     "duration": 1.10427,
     "end_time": "2022-06-12T15:59:50.499628",
     "exception": false,
     "start_time": "2022-06-12T15:59:49.395358",
     "status": "completed"
    },
    "tags": []
   },
   "outputs": [],
   "source": [
    "import pandas as pd\n",
    "import matplotlib.pyplot as plt\n",
    "import numpy as np\n",
    "import seaborn as sns\n",
    "from copy import copy\n",
    "import warnings\n",
    "warnings.filterwarnings('ignore')"
   ]
  },
  {
   "cell_type": "markdown",
   "id": "c0b49d0d",
   "metadata": {
    "papermill": {
     "duration": 0.009418,
     "end_time": "2022-06-12T15:59:50.519984",
     "exception": false,
     "start_time": "2022-06-12T15:59:50.510566",
     "status": "completed"
    },
    "tags": []
   },
   "source": [
    "## **Load the Store Sale dataset**"
   ]
  },
  {
   "cell_type": "code",
   "execution_count": 2,
   "id": "206bcbc1",
   "metadata": {
    "execution": {
     "iopub.execute_input": "2022-06-12T15:59:50.541584Z",
     "iopub.status.busy": "2022-06-12T15:59:50.540861Z",
     "iopub.status.idle": "2022-06-12T15:59:53.512158Z",
     "shell.execute_reply": "2022-06-12T15:59:53.511103Z"
    },
    "papermill": {
     "duration": 2.984742,
     "end_time": "2022-06-12T15:59:53.514636",
     "exception": false,
     "start_time": "2022-06-12T15:59:50.529894",
     "status": "completed"
    },
    "tags": []
   },
   "outputs": [
    {
     "data": {
      "text/html": [
       "<style type=\"text/css\">\n",
       "#T_f2b2b_row0_col0, #T_f2b2b_row0_col1, #T_f2b2b_row0_col2, #T_f2b2b_row0_col3, #T_f2b2b_row1_col0, #T_f2b2b_row1_col1, #T_f2b2b_row1_col2, #T_f2b2b_row1_col3, #T_f2b2b_row2_col0, #T_f2b2b_row2_col1, #T_f2b2b_row2_col2, #T_f2b2b_row2_col3, #T_f2b2b_row3_col0, #T_f2b2b_row3_col1, #T_f2b2b_row3_col2, #T_f2b2b_row3_col3, #T_f2b2b_row4_col0, #T_f2b2b_row4_col1, #T_f2b2b_row4_col2, #T_f2b2b_row4_col3 {\n",
       "  background-color: LavenderBlush;\n",
       "}\n",
       "</style>\n",
       "<table id=\"T_f2b2b\">\n",
       "  <thead>\n",
       "    <tr>\n",
       "      <th class=\"blank level0\" >&nbsp;</th>\n",
       "      <th id=\"T_f2b2b_level0_col0\" class=\"col_heading level0 col0\" >date</th>\n",
       "      <th id=\"T_f2b2b_level0_col1\" class=\"col_heading level0 col1\" >store_nbr</th>\n",
       "      <th id=\"T_f2b2b_level0_col2\" class=\"col_heading level0 col2\" >family</th>\n",
       "      <th id=\"T_f2b2b_level0_col3\" class=\"col_heading level0 col3\" >sales</th>\n",
       "    </tr>\n",
       "  </thead>\n",
       "  <tbody>\n",
       "    <tr>\n",
       "      <th id=\"T_f2b2b_level0_row0\" class=\"row_heading level0 row0\" >0</th>\n",
       "      <td id=\"T_f2b2b_row0_col0\" class=\"data row0 col0\" >2013-01-01</td>\n",
       "      <td id=\"T_f2b2b_row0_col1\" class=\"data row0 col1\" >1</td>\n",
       "      <td id=\"T_f2b2b_row0_col2\" class=\"data row0 col2\" >AUTOMOTIVE</td>\n",
       "      <td id=\"T_f2b2b_row0_col3\" class=\"data row0 col3\" >0.000000</td>\n",
       "    </tr>\n",
       "    <tr>\n",
       "      <th id=\"T_f2b2b_level0_row1\" class=\"row_heading level0 row1\" >1</th>\n",
       "      <td id=\"T_f2b2b_row1_col0\" class=\"data row1 col0\" >2013-01-01</td>\n",
       "      <td id=\"T_f2b2b_row1_col1\" class=\"data row1 col1\" >1</td>\n",
       "      <td id=\"T_f2b2b_row1_col2\" class=\"data row1 col2\" >BABY CARE</td>\n",
       "      <td id=\"T_f2b2b_row1_col3\" class=\"data row1 col3\" >0.000000</td>\n",
       "    </tr>\n",
       "    <tr>\n",
       "      <th id=\"T_f2b2b_level0_row2\" class=\"row_heading level0 row2\" >2</th>\n",
       "      <td id=\"T_f2b2b_row2_col0\" class=\"data row2 col0\" >2013-01-01</td>\n",
       "      <td id=\"T_f2b2b_row2_col1\" class=\"data row2 col1\" >1</td>\n",
       "      <td id=\"T_f2b2b_row2_col2\" class=\"data row2 col2\" >BEAUTY</td>\n",
       "      <td id=\"T_f2b2b_row2_col3\" class=\"data row2 col3\" >0.000000</td>\n",
       "    </tr>\n",
       "    <tr>\n",
       "      <th id=\"T_f2b2b_level0_row3\" class=\"row_heading level0 row3\" >3</th>\n",
       "      <td id=\"T_f2b2b_row3_col0\" class=\"data row3 col0\" >2013-01-01</td>\n",
       "      <td id=\"T_f2b2b_row3_col1\" class=\"data row3 col1\" >1</td>\n",
       "      <td id=\"T_f2b2b_row3_col2\" class=\"data row3 col2\" >BEVERAGES</td>\n",
       "      <td id=\"T_f2b2b_row3_col3\" class=\"data row3 col3\" >0.000000</td>\n",
       "    </tr>\n",
       "    <tr>\n",
       "      <th id=\"T_f2b2b_level0_row4\" class=\"row_heading level0 row4\" >4</th>\n",
       "      <td id=\"T_f2b2b_row4_col0\" class=\"data row4 col0\" >2013-01-01</td>\n",
       "      <td id=\"T_f2b2b_row4_col1\" class=\"data row4 col1\" >1</td>\n",
       "      <td id=\"T_f2b2b_row4_col2\" class=\"data row4 col2\" >BOOKS</td>\n",
       "      <td id=\"T_f2b2b_row4_col3\" class=\"data row4 col3\" >0.000000</td>\n",
       "    </tr>\n",
       "  </tbody>\n",
       "</table>\n"
      ],
      "text/plain": [
       "<pandas.io.formats.style.Styler at 0x269ae491890>"
      ]
     },
     "execution_count": 2,
     "metadata": {},
     "output_type": "execute_result"
    }
   ],
   "source": [
    "path='../Datasets/store-sales-time-series-forecasting/'\n",
    "store_sales = pd.read_csv(path+'train.csv', usecols=['store_nbr', 'family', 'date', 'sales'],)\n",
    "store_sales.head().style.set_properties(**{'background-color': 'LavenderBlush'})"
   ]
  },
  {
   "cell_type": "code",
   "execution_count": 3,
   "id": "e6c95790",
   "metadata": {
    "execution": {
     "iopub.execute_input": "2022-06-12T15:59:53.535911Z",
     "iopub.status.busy": "2022-06-12T15:59:53.535505Z",
     "iopub.status.idle": "2022-06-12T15:59:53.581027Z",
     "shell.execute_reply": "2022-06-12T15:59:53.579880Z"
    },
    "papermill": {
     "duration": 0.05878,
     "end_time": "2022-06-12T15:59:53.583311",
     "exception": false,
     "start_time": "2022-06-12T15:59:53.524531",
     "status": "completed"
    },
    "tags": []
   },
   "outputs": [
    {
     "data": {
      "text/html": [
       "<style type=\"text/css\">\n",
       "#T_20f59_row0_col0, #T_20f59_row0_col1, #T_20f59_row0_col2, #T_20f59_row0_col3, #T_20f59_row1_col0, #T_20f59_row1_col1, #T_20f59_row1_col2, #T_20f59_row1_col3, #T_20f59_row2_col0, #T_20f59_row2_col1, #T_20f59_row2_col2, #T_20f59_row2_col3, #T_20f59_row3_col0, #T_20f59_row3_col1, #T_20f59_row3_col2, #T_20f59_row3_col3, #T_20f59_row4_col0, #T_20f59_row4_col1, #T_20f59_row4_col2, #T_20f59_row4_col3 {\n",
       "  background-color: Lavender;\n",
       "}\n",
       "</style>\n",
       "<table id=\"T_20f59\">\n",
       "  <thead>\n",
       "    <tr>\n",
       "      <th class=\"blank level0\" >&nbsp;</th>\n",
       "      <th id=\"T_20f59_level0_col0\" class=\"col_heading level0 col0\" >id</th>\n",
       "      <th id=\"T_20f59_level0_col1\" class=\"col_heading level0 col1\" >date</th>\n",
       "      <th id=\"T_20f59_level0_col2\" class=\"col_heading level0 col2\" >store_nbr</th>\n",
       "      <th id=\"T_20f59_level0_col3\" class=\"col_heading level0 col3\" >family</th>\n",
       "    </tr>\n",
       "  </thead>\n",
       "  <tbody>\n",
       "    <tr>\n",
       "      <th id=\"T_20f59_level0_row0\" class=\"row_heading level0 row0\" >0</th>\n",
       "      <td id=\"T_20f59_row0_col0\" class=\"data row0 col0\" >3000888</td>\n",
       "      <td id=\"T_20f59_row0_col1\" class=\"data row0 col1\" >2017-08-16</td>\n",
       "      <td id=\"T_20f59_row0_col2\" class=\"data row0 col2\" >1</td>\n",
       "      <td id=\"T_20f59_row0_col3\" class=\"data row0 col3\" >AUTOMOTIVE</td>\n",
       "    </tr>\n",
       "    <tr>\n",
       "      <th id=\"T_20f59_level0_row1\" class=\"row_heading level0 row1\" >1</th>\n",
       "      <td id=\"T_20f59_row1_col0\" class=\"data row1 col0\" >3000889</td>\n",
       "      <td id=\"T_20f59_row1_col1\" class=\"data row1 col1\" >2017-08-16</td>\n",
       "      <td id=\"T_20f59_row1_col2\" class=\"data row1 col2\" >1</td>\n",
       "      <td id=\"T_20f59_row1_col3\" class=\"data row1 col3\" >BABY CARE</td>\n",
       "    </tr>\n",
       "    <tr>\n",
       "      <th id=\"T_20f59_level0_row2\" class=\"row_heading level0 row2\" >2</th>\n",
       "      <td id=\"T_20f59_row2_col0\" class=\"data row2 col0\" >3000890</td>\n",
       "      <td id=\"T_20f59_row2_col1\" class=\"data row2 col1\" >2017-08-16</td>\n",
       "      <td id=\"T_20f59_row2_col2\" class=\"data row2 col2\" >1</td>\n",
       "      <td id=\"T_20f59_row2_col3\" class=\"data row2 col3\" >BEAUTY</td>\n",
       "    </tr>\n",
       "    <tr>\n",
       "      <th id=\"T_20f59_level0_row3\" class=\"row_heading level0 row3\" >3</th>\n",
       "      <td id=\"T_20f59_row3_col0\" class=\"data row3 col0\" >3000891</td>\n",
       "      <td id=\"T_20f59_row3_col1\" class=\"data row3 col1\" >2017-08-16</td>\n",
       "      <td id=\"T_20f59_row3_col2\" class=\"data row3 col2\" >1</td>\n",
       "      <td id=\"T_20f59_row3_col3\" class=\"data row3 col3\" >BEVERAGES</td>\n",
       "    </tr>\n",
       "    <tr>\n",
       "      <th id=\"T_20f59_level0_row4\" class=\"row_heading level0 row4\" >4</th>\n",
       "      <td id=\"T_20f59_row4_col0\" class=\"data row4 col0\" >3000892</td>\n",
       "      <td id=\"T_20f59_row4_col1\" class=\"data row4 col1\" >2017-08-16</td>\n",
       "      <td id=\"T_20f59_row4_col2\" class=\"data row4 col2\" >1</td>\n",
       "      <td id=\"T_20f59_row4_col3\" class=\"data row4 col3\" >BOOKS</td>\n",
       "    </tr>\n",
       "  </tbody>\n",
       "</table>\n"
      ],
      "text/plain": [
       "<pandas.io.formats.style.Styler at 0x269a93ac550>"
      ]
     },
     "execution_count": 3,
     "metadata": {},
     "output_type": "execute_result"
    }
   ],
   "source": [
    "store_sales_test = pd.read_csv(path+'test.csv', usecols=['store_nbr', 'family', 'date', 'id'])\n",
    "store_sales_test.head().style.set_properties(**{'background-color': 'Lavender'})"
   ]
  },
  {
   "cell_type": "code",
   "execution_count": 4,
   "id": "3fef99be",
   "metadata": {
    "execution": {
     "iopub.execute_input": "2022-06-12T15:59:53.604470Z",
     "iopub.status.busy": "2022-06-12T15:59:53.604031Z",
     "iopub.status.idle": "2022-06-12T15:59:53.620667Z",
     "shell.execute_reply": "2022-06-12T15:59:53.619538Z"
    },
    "papermill": {
     "duration": 0.030053,
     "end_time": "2022-06-12T15:59:53.623086",
     "exception": false,
     "start_time": "2022-06-12T15:59:53.593033",
     "status": "completed"
    },
    "tags": []
   },
   "outputs": [
    {
     "data": {
      "text/html": [
       "<style type=\"text/css\">\n",
       "#T_6f8ce_row0_col0, #T_6f8ce_row0_col1, #T_6f8ce_row0_col2, #T_6f8ce_row0_col3, #T_6f8ce_row1_col0, #T_6f8ce_row1_col1, #T_6f8ce_row1_col2, #T_6f8ce_row1_col3, #T_6f8ce_row2_col0, #T_6f8ce_row2_col1, #T_6f8ce_row2_col2, #T_6f8ce_row2_col3, #T_6f8ce_row3_col0, #T_6f8ce_row3_col1, #T_6f8ce_row3_col2, #T_6f8ce_row3_col3, #T_6f8ce_row4_col0, #T_6f8ce_row4_col1, #T_6f8ce_row4_col2, #T_6f8ce_row4_col3 {\n",
       "  background-color: Lavender;\n",
       "}\n",
       "</style>\n",
       "<table id=\"T_6f8ce\">\n",
       "  <thead>\n",
       "    <tr>\n",
       "      <th class=\"blank level0\" >&nbsp;</th>\n",
       "      <th id=\"T_6f8ce_level0_col0\" class=\"col_heading level0 col0\" >id</th>\n",
       "      <th id=\"T_6f8ce_level0_col1\" class=\"col_heading level0 col1\" >date</th>\n",
       "      <th id=\"T_6f8ce_level0_col2\" class=\"col_heading level0 col2\" >store_nbr</th>\n",
       "      <th id=\"T_6f8ce_level0_col3\" class=\"col_heading level0 col3\" >family</th>\n",
       "    </tr>\n",
       "  </thead>\n",
       "  <tbody>\n",
       "    <tr>\n",
       "      <th id=\"T_6f8ce_level0_row0\" class=\"row_heading level0 row0\" >28507</th>\n",
       "      <td id=\"T_6f8ce_row0_col0\" class=\"data row0 col0\" >3029395</td>\n",
       "      <td id=\"T_6f8ce_row0_col1\" class=\"data row0 col1\" >2017-08-31</td>\n",
       "      <td id=\"T_6f8ce_row0_col2\" class=\"data row0 col2\" >9</td>\n",
       "      <td id=\"T_6f8ce_row0_col3\" class=\"data row0 col3\" >POULTRY</td>\n",
       "    </tr>\n",
       "    <tr>\n",
       "      <th id=\"T_6f8ce_level0_row1\" class=\"row_heading level0 row1\" >28508</th>\n",
       "      <td id=\"T_6f8ce_row1_col0\" class=\"data row1 col0\" >3029396</td>\n",
       "      <td id=\"T_6f8ce_row1_col1\" class=\"data row1 col1\" >2017-08-31</td>\n",
       "      <td id=\"T_6f8ce_row1_col2\" class=\"data row1 col2\" >9</td>\n",
       "      <td id=\"T_6f8ce_row1_col3\" class=\"data row1 col3\" >PREPARED FOODS</td>\n",
       "    </tr>\n",
       "    <tr>\n",
       "      <th id=\"T_6f8ce_level0_row2\" class=\"row_heading level0 row2\" >28509</th>\n",
       "      <td id=\"T_6f8ce_row2_col0\" class=\"data row2 col0\" >3029397</td>\n",
       "      <td id=\"T_6f8ce_row2_col1\" class=\"data row2 col1\" >2017-08-31</td>\n",
       "      <td id=\"T_6f8ce_row2_col2\" class=\"data row2 col2\" >9</td>\n",
       "      <td id=\"T_6f8ce_row2_col3\" class=\"data row2 col3\" >PRODUCE</td>\n",
       "    </tr>\n",
       "    <tr>\n",
       "      <th id=\"T_6f8ce_level0_row3\" class=\"row_heading level0 row3\" >28510</th>\n",
       "      <td id=\"T_6f8ce_row3_col0\" class=\"data row3 col0\" >3029398</td>\n",
       "      <td id=\"T_6f8ce_row3_col1\" class=\"data row3 col1\" >2017-08-31</td>\n",
       "      <td id=\"T_6f8ce_row3_col2\" class=\"data row3 col2\" >9</td>\n",
       "      <td id=\"T_6f8ce_row3_col3\" class=\"data row3 col3\" >SCHOOL AND OFFICE SUPPLIES</td>\n",
       "    </tr>\n",
       "    <tr>\n",
       "      <th id=\"T_6f8ce_level0_row4\" class=\"row_heading level0 row4\" >28511</th>\n",
       "      <td id=\"T_6f8ce_row4_col0\" class=\"data row4 col0\" >3029399</td>\n",
       "      <td id=\"T_6f8ce_row4_col1\" class=\"data row4 col1\" >2017-08-31</td>\n",
       "      <td id=\"T_6f8ce_row4_col2\" class=\"data row4 col2\" >9</td>\n",
       "      <td id=\"T_6f8ce_row4_col3\" class=\"data row4 col3\" >SEAFOOD</td>\n",
       "    </tr>\n",
       "  </tbody>\n",
       "</table>\n"
      ],
      "text/plain": [
       "<pandas.io.formats.style.Styler at 0x269aed10790>"
      ]
     },
     "execution_count": 4,
     "metadata": {},
     "output_type": "execute_result"
    }
   ],
   "source": [
    "store_sales_test.tail().style.set_properties(**{'background-color': 'Lavender'})"
   ]
  },
  {
   "cell_type": "markdown",
   "id": "599351c6",
   "metadata": {
    "papermill": {
     "duration": 0.00969,
     "end_time": "2022-06-12T15:59:53.642867",
     "exception": false,
     "start_time": "2022-06-12T15:59:53.633177",
     "status": "completed"
    },
    "tags": []
   },
   "source": [
    "## **Data Exploration**"
   ]
  },
  {
   "cell_type": "code",
   "execution_count": 5,
   "id": "4b28431b",
   "metadata": {
    "execution": {
     "iopub.execute_input": "2022-06-12T15:59:53.664502Z",
     "iopub.status.busy": "2022-06-12T15:59:53.664083Z",
     "iopub.status.idle": "2022-06-12T15:59:53.697235Z",
     "shell.execute_reply": "2022-06-12T15:59:53.695272Z"
    },
    "papermill": {
     "duration": 0.046561,
     "end_time": "2022-06-12T15:59:53.699396",
     "exception": false,
     "start_time": "2022-06-12T15:59:53.652835",
     "status": "completed"
    },
    "tags": []
   },
   "outputs": [
    {
     "name": "stdout",
     "output_type": "stream",
     "text": [
      "<class 'pandas.core.frame.DataFrame'>\n",
      "RangeIndex: 3000888 entries, 0 to 3000887\n",
      "Data columns (total 4 columns):\n",
      " #   Column     Dtype  \n",
      "---  ------     -----  \n",
      " 0   date       object \n",
      " 1   store_nbr  int64  \n",
      " 2   family     object \n",
      " 3   sales      float64\n",
      "dtypes: float64(1), int64(1), object(2)\n",
      "memory usage: 91.6+ MB\n",
      "<class 'pandas.core.frame.DataFrame'>\n",
      "RangeIndex: 28512 entries, 0 to 28511\n",
      "Data columns (total 4 columns):\n",
      " #   Column     Non-Null Count  Dtype \n",
      "---  ------     --------------  ----- \n",
      " 0   id         28512 non-null  int64 \n",
      " 1   date       28512 non-null  object\n",
      " 2   store_nbr  28512 non-null  int64 \n",
      " 3   family     28512 non-null  object\n",
      "dtypes: int64(2), object(2)\n",
      "memory usage: 891.1+ KB\n"
     ]
    },
    {
     "data": {
      "text/plain": [
       "(None, None)"
      ]
     },
     "execution_count": 5,
     "metadata": {},
     "output_type": "execute_result"
    }
   ],
   "source": [
    "store_sales.info(), store_sales_test.info()"
   ]
  },
  {
   "cell_type": "code",
   "execution_count": 6,
   "id": "0bbbf269",
   "metadata": {
    "execution": {
     "iopub.execute_input": "2022-06-12T15:59:53.721826Z",
     "iopub.status.busy": "2022-06-12T15:59:53.721430Z",
     "iopub.status.idle": "2022-06-12T15:59:54.269522Z",
     "shell.execute_reply": "2022-06-12T15:59:54.268518Z"
    },
    "papermill": {
     "duration": 0.562029,
     "end_time": "2022-06-12T15:59:54.271772",
     "exception": false,
     "start_time": "2022-06-12T15:59:53.709743",
     "status": "completed"
    },
    "tags": []
   },
   "outputs": [
    {
     "data": {
      "text/plain": [
       "(date         0\n",
       " store_nbr    0\n",
       " family       0\n",
       " sales        0\n",
       " dtype: int64,\n",
       " id           0\n",
       " date         0\n",
       " store_nbr    0\n",
       " family       0\n",
       " dtype: int64)"
      ]
     },
     "execution_count": 6,
     "metadata": {},
     "output_type": "execute_result"
    }
   ],
   "source": [
    "store_sales.isnull().sum(), store_sales_test.isnull().sum()"
   ]
  },
  {
   "cell_type": "code",
   "execution_count": 8,
   "id": "8f10e2b2",
   "metadata": {
    "execution": {
     "iopub.execute_input": "2022-06-12T15:59:54.294549Z",
     "iopub.status.busy": "2022-06-12T15:59:54.294134Z",
     "iopub.status.idle": "2022-06-12T15:59:54.326874Z",
     "shell.execute_reply": "2022-06-12T15:59:54.325761Z"
    },
    "papermill": {
     "duration": 0.046958,
     "end_time": "2022-06-12T15:59:54.329238",
     "exception": false,
     "start_time": "2022-06-12T15:59:54.282280",
     "status": "completed"
    },
    "tags": []
   },
   "outputs": [
    {
     "data": {
      "text/html": [
       "<div>\n",
       "<style scoped>\n",
       "    .dataframe tbody tr th:only-of-type {\n",
       "        vertical-align: middle;\n",
       "    }\n",
       "\n",
       "    .dataframe tbody tr th {\n",
       "        vertical-align: top;\n",
       "    }\n",
       "\n",
       "    .dataframe thead th {\n",
       "        text-align: right;\n",
       "    }\n",
       "</style>\n",
       "<table border=\"1\" class=\"dataframe\">\n",
       "  <thead>\n",
       "    <tr style=\"text-align: right;\">\n",
       "      <th></th>\n",
       "      <th>id</th>\n",
       "      <th>sales</th>\n",
       "    </tr>\n",
       "  </thead>\n",
       "  <tbody>\n",
       "    <tr>\n",
       "      <th>0</th>\n",
       "      <td>3000888</td>\n",
       "      <td>0.0</td>\n",
       "    </tr>\n",
       "    <tr>\n",
       "      <th>1</th>\n",
       "      <td>3000889</td>\n",
       "      <td>0.0</td>\n",
       "    </tr>\n",
       "    <tr>\n",
       "      <th>2</th>\n",
       "      <td>3000890</td>\n",
       "      <td>0.0</td>\n",
       "    </tr>\n",
       "    <tr>\n",
       "      <th>3</th>\n",
       "      <td>3000891</td>\n",
       "      <td>0.0</td>\n",
       "    </tr>\n",
       "    <tr>\n",
       "      <th>4</th>\n",
       "      <td>3000892</td>\n",
       "      <td>0.0</td>\n",
       "    </tr>\n",
       "    <tr>\n",
       "      <th>...</th>\n",
       "      <td>...</td>\n",
       "      <td>...</td>\n",
       "    </tr>\n",
       "    <tr>\n",
       "      <th>28507</th>\n",
       "      <td>3029395</td>\n",
       "      <td>0.0</td>\n",
       "    </tr>\n",
       "    <tr>\n",
       "      <th>28508</th>\n",
       "      <td>3029396</td>\n",
       "      <td>0.0</td>\n",
       "    </tr>\n",
       "    <tr>\n",
       "      <th>28509</th>\n",
       "      <td>3029397</td>\n",
       "      <td>0.0</td>\n",
       "    </tr>\n",
       "    <tr>\n",
       "      <th>28510</th>\n",
       "      <td>3029398</td>\n",
       "      <td>0.0</td>\n",
       "    </tr>\n",
       "    <tr>\n",
       "      <th>28511</th>\n",
       "      <td>3029399</td>\n",
       "      <td>0.0</td>\n",
       "    </tr>\n",
       "  </tbody>\n",
       "</table>\n",
       "<p>28512 rows × 2 columns</p>\n",
       "</div>"
      ],
      "text/plain": [
       "            id  sales\n",
       "0      3000888    0.0\n",
       "1      3000889    0.0\n",
       "2      3000890    0.0\n",
       "3      3000891    0.0\n",
       "4      3000892    0.0\n",
       "...        ...    ...\n",
       "28507  3029395    0.0\n",
       "28508  3029396    0.0\n",
       "28509  3029397    0.0\n",
       "28510  3029398    0.0\n",
       "28511  3029399    0.0\n",
       "\n",
       "[28512 rows x 2 columns]"
      ]
     },
     "execution_count": 8,
     "metadata": {},
     "output_type": "execute_result"
    }
   ],
   "source": [
    "pd.read_csv(path+\"sample_submission.csv\")"
   ]
  },
  {
   "cell_type": "markdown",
   "id": "9e09439e",
   "metadata": {
    "papermill": {
     "duration": 0.010622,
     "end_time": "2022-06-12T15:59:54.351075",
     "exception": false,
     "start_time": "2022-06-12T15:59:54.340453",
     "status": "completed"
    },
    "tags": []
   },
   "source": [
    "## **Data Preprocessing**"
   ]
  },
  {
   "cell_type": "code",
   "execution_count": 9,
   "id": "0f458e62",
   "metadata": {
    "execution": {
     "iopub.execute_input": "2022-06-12T15:59:54.374713Z",
     "iopub.status.busy": "2022-06-12T15:59:54.373972Z",
     "iopub.status.idle": "2022-06-12T15:59:55.213308Z",
     "shell.execute_reply": "2022-06-12T15:59:55.212276Z"
    },
    "papermill": {
     "duration": 0.854544,
     "end_time": "2022-06-12T15:59:55.216524",
     "exception": false,
     "start_time": "2022-06-12T15:59:54.361980",
     "status": "completed"
    },
    "tags": []
   },
   "outputs": [],
   "source": [
    "store_sales['date'] = pd.to_datetime(store_sales['date'])\n",
    "store_sales['date'] = store_sales.date.dt.to_period('D')\n",
    "store_sales_test['date'] = pd.to_datetime(store_sales_test['date'])\n",
    "store_sales_test['date'] = store_sales_test.date.dt.to_period('D')"
   ]
  },
  {
   "cell_type": "code",
   "execution_count": 10,
   "id": "a05b04ec",
   "metadata": {
    "execution": {
     "iopub.execute_input": "2022-06-12T15:59:55.247494Z",
     "iopub.status.busy": "2022-06-12T15:59:55.246162Z",
     "iopub.status.idle": "2022-06-12T15:59:57.639217Z",
     "shell.execute_reply": "2022-06-12T15:59:57.638337Z"
    },
    "papermill": {
     "duration": 2.40838,
     "end_time": "2022-06-12T15:59:57.642074",
     "exception": false,
     "start_time": "2022-06-12T15:59:55.233694",
     "status": "completed"
    },
    "tags": []
   },
   "outputs": [
    {
     "data": {
      "text/plain": [
       "(                                 sales\n",
       " store_nbr family     date             \n",
       " 1         AUTOMOTIVE 2013-01-01    0.0\n",
       "                      2013-01-02    2.0\n",
       "                      2013-01-03    3.0\n",
       "                      2013-01-04    3.0\n",
       "                      2013-01-05    5.0,\n",
       "                                       id\n",
       " store_nbr family     date               \n",
       " 1         AUTOMOTIVE 2017-08-16  3000888\n",
       "                      2017-08-17  3002670\n",
       "                      2017-08-18  3004452\n",
       "                      2017-08-19  3006234\n",
       "                      2017-08-20  3008016)"
      ]
     },
     "execution_count": 10,
     "metadata": {},
     "output_type": "execute_result"
    }
   ],
   "source": [
    "store_sales = store_sales.set_index(['store_nbr', 'family', 'date']).sort_index()\n",
    "store_sales_test = store_sales_test.set_index(['store_nbr', 'family', 'date']).sort_index()\n",
    "store_sales.head(), store_sales_test.head()"
   ]
  },
  {
   "cell_type": "markdown",
   "id": "66bf1d2e",
   "metadata": {
    "papermill": {
     "duration": 0.010827,
     "end_time": "2022-06-12T15:59:57.663722",
     "exception": false,
     "start_time": "2022-06-12T15:59:57.652895",
     "status": "completed"
    },
    "tags": []
   },
   "source": [
    "## **Determine seasonality**"
   ]
  },
  {
   "cell_type": "markdown",
   "id": "3d1fbd2c",
   "metadata": {
    "papermill": {
     "duration": 0.010566,
     "end_time": "2022-06-12T15:59:57.684961",
     "exception": false,
     "start_time": "2022-06-12T15:59:57.674395",
     "status": "completed"
    },
    "tags": []
   },
   "source": [
    "**[Periodogram](https://online.stat.psu.edu/stat510/lesson/6/6.1)**\n",
    "\n",
    "A periodogram is used to identify the dominant periods (or frequencies) of a time series. This can be a helpful tool for identifying the dominant cyclical behavior in a series, particularly when the cycles are not related to the commonly encountered monthly or quarterly seasonality.\n",
    "\n",
    "Any time series can be expressed as a combination of cosine and sine waves with differing periods (how long it takes to complete a full cycle) and amplitudes (maximum/minimum value during the cycle). This fact can be utilized to examine the periodic (cyclical) behavior in a time series.\n",
    "\n",
    "A time series is viewed as a sum of cosine waves with varying amplitudes and frequencies. One goal of an analysis is to identify the important frequencies (or periods) in the observed series. A starting tool for doing this is the periodogram. The periodogram graphs a measure of the relative importance of possible frequency values that might explain the oscillation pattern of the observed data.\n",
    "\n",
    "A useful trigonometric identity is:\n",
    " $$A cos(2\\pi\\omega t + \\phi) = \\beta_1 cos(2\\pi\\omega t) + \\beta_2 sin(2\\pi\\omega t) $$\n",
    " \n",
    " with $\\beta_1 = A cos(\\phi)$ and $\\beta_2 = -A sin(\\phi)$\n",
    " \n",
    " This identity is used when we determine the periodogram of a series.\n",
    " More information about Periodogram can be obtained from [here](https://online.stat.psu.edu/stat510/lesson/6/6.1)."
   ]
  },
  {
   "cell_type": "code",
   "execution_count": 11,
   "id": "09c3a4f4",
   "metadata": {
    "execution": {
     "iopub.execute_input": "2022-06-12T15:59:57.708957Z",
     "iopub.status.busy": "2022-06-12T15:59:57.708338Z",
     "iopub.status.idle": "2022-06-12T15:59:57.814893Z",
     "shell.execute_reply": "2022-06-12T15:59:57.814193Z"
    },
    "papermill": {
     "duration": 0.120712,
     "end_time": "2022-06-12T15:59:57.816859",
     "exception": false,
     "start_time": "2022-06-12T15:59:57.696147",
     "status": "completed"
    },
    "tags": []
   },
   "outputs": [
    {
     "data": {
      "text/plain": [
       "date\n",
       "2017-01-01    1.208250e+04\n",
       "2017-01-02    1.402306e+06\n",
       "2017-01-03    1.104377e+06\n",
       "2017-01-04    9.900935e+05\n",
       "2017-01-05    7.776210e+05\n",
       "                  ...     \n",
       "2017-08-11    8.263737e+05\n",
       "2017-08-12    7.926305e+05\n",
       "2017-08-13    8.656397e+05\n",
       "2017-08-14    7.609224e+05\n",
       "2017-08-15    7.626619e+05\n",
       "Freq: D, Name: sales, Length: 227, dtype: float64"
      ]
     },
     "execution_count": 11,
     "metadata": {},
     "output_type": "execute_result"
    }
   ],
   "source": [
    "Total_sales = store_sales.groupby('date').sum().squeeze().loc['2017']\n",
    "Total_sales"
   ]
  },
  {
   "cell_type": "code",
   "execution_count": 12,
   "id": "e6d387f7",
   "metadata": {
    "execution": {
     "iopub.execute_input": "2022-06-12T15:59:57.840768Z",
     "iopub.status.busy": "2022-06-12T15:59:57.840159Z",
     "iopub.status.idle": "2022-06-12T15:59:57.851877Z",
     "shell.execute_reply": "2022-06-12T15:59:57.851167Z"
    },
    "papermill": {
     "duration": 0.026131,
     "end_time": "2022-06-12T15:59:57.853968",
     "exception": false,
     "start_time": "2022-06-12T15:59:57.827837",
     "status": "completed"
    },
    "tags": []
   },
   "outputs": [
    {
     "data": {
      "text/html": [
       "<div>\n",
       "<style scoped>\n",
       "    .dataframe tbody tr th:only-of-type {\n",
       "        vertical-align: middle;\n",
       "    }\n",
       "\n",
       "    .dataframe tbody tr th {\n",
       "        vertical-align: top;\n",
       "    }\n",
       "\n",
       "    .dataframe thead th {\n",
       "        text-align: right;\n",
       "    }\n",
       "</style>\n",
       "<table border=\"1\" class=\"dataframe\">\n",
       "  <thead>\n",
       "    <tr style=\"text-align: right;\">\n",
       "      <th></th>\n",
       "    </tr>\n",
       "    <tr>\n",
       "      <th>date</th>\n",
       "    </tr>\n",
       "  </thead>\n",
       "  <tbody>\n",
       "    <tr>\n",
       "      <th>2017-08-16</th>\n",
       "    </tr>\n",
       "    <tr>\n",
       "      <th>2017-08-17</th>\n",
       "    </tr>\n",
       "    <tr>\n",
       "      <th>2017-08-18</th>\n",
       "    </tr>\n",
       "    <tr>\n",
       "      <th>2017-08-19</th>\n",
       "    </tr>\n",
       "    <tr>\n",
       "      <th>2017-08-20</th>\n",
       "    </tr>\n",
       "    <tr>\n",
       "      <th>2017-08-21</th>\n",
       "    </tr>\n",
       "    <tr>\n",
       "      <th>2017-08-22</th>\n",
       "    </tr>\n",
       "    <tr>\n",
       "      <th>2017-08-23</th>\n",
       "    </tr>\n",
       "    <tr>\n",
       "      <th>2017-08-24</th>\n",
       "    </tr>\n",
       "    <tr>\n",
       "      <th>2017-08-25</th>\n",
       "    </tr>\n",
       "    <tr>\n",
       "      <th>2017-08-26</th>\n",
       "    </tr>\n",
       "    <tr>\n",
       "      <th>2017-08-27</th>\n",
       "    </tr>\n",
       "    <tr>\n",
       "      <th>2017-08-28</th>\n",
       "    </tr>\n",
       "    <tr>\n",
       "      <th>2017-08-29</th>\n",
       "    </tr>\n",
       "    <tr>\n",
       "      <th>2017-08-30</th>\n",
       "    </tr>\n",
       "    <tr>\n",
       "      <th>2017-08-31</th>\n",
       "    </tr>\n",
       "  </tbody>\n",
       "</table>\n",
       "</div>"
      ],
      "text/plain": [
       "Empty DataFrame\n",
       "Columns: []\n",
       "Index: [2017-08-16, 2017-08-17, 2017-08-18, 2017-08-19, 2017-08-20, 2017-08-21, 2017-08-22, 2017-08-23, 2017-08-24, 2017-08-25, 2017-08-26, 2017-08-27, 2017-08-28, 2017-08-29, 2017-08-30, 2017-08-31]"
      ]
     },
     "execution_count": 12,
     "metadata": {},
     "output_type": "execute_result"
    }
   ],
   "source": [
    "Total_sales_test = store_sales_test.drop('id', axis = 1).groupby('date').sum().squeeze().loc['2017']\n",
    "Total_sales_test"
   ]
  },
  {
   "cell_type": "code",
   "execution_count": 28,
   "id": "6a06499a",
   "metadata": {
    "execution": {
     "iopub.execute_input": "2022-06-12T15:59:57.878236Z",
     "iopub.status.busy": "2022-06-12T15:59:57.877799Z",
     "iopub.status.idle": "2022-06-12T16:00:13.192864Z",
     "shell.execute_reply": "2022-06-12T16:00:13.191885Z"
    },
    "papermill": {
     "duration": 15.331304,
     "end_time": "2022-06-12T16:00:13.196587",
     "exception": false,
     "start_time": "2022-06-12T15:59:57.865283",
     "status": "completed"
    },
    "tags": []
   },
   "outputs": [
    {
     "ename": "ModuleNotFoundError",
     "evalue": "No module named 'learntools'",
     "output_type": "error",
     "traceback": [
      "\u001b[1;31m---------------------------------------------------------------------------\u001b[0m",
      "\u001b[1;31mModuleNotFoundError\u001b[0m                       Traceback (most recent call last)",
      "Cell \u001b[1;32mIn[28], line 4\u001b[0m\n\u001b[0;32m      1\u001b[0m fig, (ax0, ax1, ax2) \u001b[38;5;241m=\u001b[39m plt\u001b[38;5;241m.\u001b[39msubplots(\u001b[38;5;241m3\u001b[39m, \u001b[38;5;241m1\u001b[39m, figsize\u001b[38;5;241m=\u001b[39m(\u001b[38;5;241m11\u001b[39m, \u001b[38;5;241m8\u001b[39m))\n\u001b[0;32m      3\u001b[0m Total_sales \u001b[38;5;241m=\u001b[39m (store_sales\u001b[38;5;241m.\u001b[39mgroupby(\u001b[38;5;124m'\u001b[39m\u001b[38;5;124mdate\u001b[39m\u001b[38;5;124m'\u001b[39m)\u001b[38;5;241m.\u001b[39msum()\u001b[38;5;241m.\u001b[39msqueeze())\n\u001b[1;32m----> 4\u001b[0m \u001b[38;5;28;01mfrom\u001b[39;00m \u001b[38;5;21;01mlearntools\u001b[39;00m\u001b[38;5;21;01m.\u001b[39;00m\u001b[38;5;21;01mtime_series\u001b[39;00m\u001b[38;5;21;01m.\u001b[39;00m\u001b[38;5;21;01mutils\u001b[39;00m \u001b[38;5;28;01mimport\u001b[39;00m plot_periodogram, seasonal_plot\n\u001b[0;32m      5\u001b[0m plot_periodogram(Total_sales, ax\u001b[38;5;241m=\u001b[39max0);\n\u001b[0;32m      7\u001b[0m X \u001b[38;5;241m=\u001b[39m Total_sales\u001b[38;5;241m.\u001b[39mto_frame()\n",
      "\u001b[1;31mModuleNotFoundError\u001b[0m: No module named 'learntools'"
     ]
    },
    {
     "data": {
      "image/png": "[encoded data removed]",
      "text/plain": [
       "<Figure size 1100x800 with 3 Axes>"
      ]
     },
     "metadata": {},
     "output_type": "display_data"
    }
   ],
   "source": [
    "fig, (ax0, ax1, ax2) = plt.subplots(3, 1, figsize=(11, 8))\n",
    "\n",
    "Total_sales = (store_sales.groupby('date').sum().squeeze())\n",
    "from learntools.time_series.utils import plot_periodogram, seasonal_plot\n",
    "plot_periodogram(Total_sales, ax=ax0);\n",
    "\n",
    "X = Total_sales.to_frame()\n",
    "X[\"week\"] = X.index.week\n",
    "X[\"day\"] = X.index.dayofweek\n",
    "# days within a year\n",
    "X[\"dayofyear\"] = X.index.dayofyear\n",
    "X[\"year\"] = X.index.year\n",
    "seasonal_plot(X, y='sales', period='week', freq='day', ax=ax1);\n",
    "seasonal_plot(X, y=\"sales\", period=\"year\", freq=\"dayofyear\", ax=ax2);\n",
    "plt.tight_layout();"
   ]
  },
  {
   "cell_type": "markdown",
   "id": "07fe627e",
   "metadata": {
    "papermill": {
     "duration": 0.013959,
     "end_time": "2022-06-12T16:00:13.225226",
     "exception": false,
     "start_time": "2022-06-12T16:00:13.211267",
     "status": "completed"
    },
    "tags": []
   },
   "source": [
    "**Periodogram and seasonal plot for the Year 2017**"
   ]
  },
  {
   "cell_type": "code",
   "execution_count": 29,
   "id": "642ea03f",
   "metadata": {
    "execution": {
     "iopub.execute_input": "2022-06-12T16:00:13.255887Z",
     "iopub.status.busy": "2022-06-12T16:00:13.254860Z",
     "iopub.status.idle": "2022-06-12T16:00:14.839777Z",
     "shell.execute_reply": "2022-06-12T16:00:14.838944Z"
    },
    "papermill": {
     "duration": 1.602454,
     "end_time": "2022-06-12T16:00:14.841988",
     "exception": false,
     "start_time": "2022-06-12T16:00:13.239534",
     "status": "completed"
    },
    "scrolled": false,
    "tags": []
   },
   "outputs": [
    {
     "ename": "ModuleNotFoundError",
     "evalue": "No module named 'learntools'",
     "output_type": "error",
     "traceback": [
      "\u001b[1;31m---------------------------------------------------------------------------\u001b[0m",
      "\u001b[1;31mModuleNotFoundError\u001b[0m                       Traceback (most recent call last)",
      "Cell \u001b[1;32mIn[29], line 4\u001b[0m\n\u001b[0;32m      1\u001b[0m fig, (ax0, ax1, ax2) \u001b[38;5;241m=\u001b[39m plt\u001b[38;5;241m.\u001b[39msubplots(\u001b[38;5;241m3\u001b[39m, \u001b[38;5;241m1\u001b[39m, figsize\u001b[38;5;241m=\u001b[39m(\u001b[38;5;241m11\u001b[39m, \u001b[38;5;241m8\u001b[39m))\n\u001b[0;32m      3\u001b[0m Total_sales \u001b[38;5;241m=\u001b[39m (store_sales\u001b[38;5;241m.\u001b[39mgroupby(\u001b[38;5;124m'\u001b[39m\u001b[38;5;124mdate\u001b[39m\u001b[38;5;124m'\u001b[39m)\u001b[38;5;241m.\u001b[39msum()\u001b[38;5;241m.\u001b[39msqueeze()\u001b[38;5;241m.\u001b[39mloc[\u001b[38;5;124m'\u001b[39m\u001b[38;5;124m2017\u001b[39m\u001b[38;5;124m'\u001b[39m])\n\u001b[1;32m----> 4\u001b[0m \u001b[38;5;28;01mfrom\u001b[39;00m \u001b[38;5;21;01mlearntools\u001b[39;00m\u001b[38;5;21;01m.\u001b[39;00m\u001b[38;5;21;01mtime_series\u001b[39;00m\u001b[38;5;21;01m.\u001b[39;00m\u001b[38;5;21;01mutils\u001b[39;00m \u001b[38;5;28;01mimport\u001b[39;00m plot_periodogram, seasonal_plot\n\u001b[0;32m      5\u001b[0m plot_periodogram(Total_sales, ax\u001b[38;5;241m=\u001b[39max0);\n\u001b[0;32m      7\u001b[0m X \u001b[38;5;241m=\u001b[39m Total_sales\u001b[38;5;241m.\u001b[39mto_frame()\n",
      "\u001b[1;31mModuleNotFoundError\u001b[0m: No module named 'learntools'"
     ]
    },
    {
     "data": {
      "image/png": "[encoded data removed]",
      "text/plain": [
       "<Figure size 1100x800 with 3 Axes>"
      ]
     },
     "metadata": {},
     "output_type": "display_data"
    }
   ],
   "source": [
    "fig, (ax0, ax1, ax2) = plt.subplots(3, 1, figsize=(11, 8))\n",
    "\n",
    "Total_sales = (store_sales.groupby('date').sum().squeeze().loc['2017'])\n",
    "from learntools.time_series.utils import plot_periodogram, seasonal_plot\n",
    "plot_periodogram(Total_sales, ax=ax0);\n",
    "\n",
    "X = Total_sales.to_frame()\n",
    "X[\"week\"] = X.index.week\n",
    "X[\"day\"] = X.index.dayofweek\n",
    "# days within a year\n",
    "X[\"dayofyear\"] = X.index.dayofyear\n",
    "X[\"year\"] = X.index.year\n",
    "seasonal_plot(X, y='sales', period='week', freq='day', ax=ax1);\n",
    "seasonal_plot(X, y=\"sales\", period=\"year\", freq=\"dayofyear\", ax=ax2);\n",
    "plt.tight_layout();"
   ]
  },
  {
   "cell_type": "markdown",
   "id": "8b8b9697",
   "metadata": {
    "papermill": {
     "duration": 0.015743,
     "end_time": "2022-06-12T16:00:14.873903",
     "exception": false,
     "start_time": "2022-06-12T16:00:14.858160",
     "status": "completed"
    },
    "tags": []
   },
   "source": [
    "#### Both the seasonal plot and the periodogram suggest a strong weekly seasonality. From the periodogram, it appears there may be some monthly and biweekly components as well. In fact, the notes to the Store Sales dataset say wages in the public sector are paid out biweekly, on the 15th and last day of the month -- a possible origin for these seasons.\n",
    "\n",
    "## **Create seasonal features**\n",
    "Use DeterministicProcess and CalendarFourier to create:\n",
    "\n",
    "indicators for weekly seasons and\n",
    "Fourier features of order 4 for monthly seasons."
   ]
  },
  {
   "cell_type": "code",
   "execution_count": null,
   "id": "5480a9b9",
   "metadata": {
    "execution": {
     "iopub.execute_input": "2022-06-12T16:00:14.907291Z",
     "iopub.status.busy": "2022-06-12T16:00:14.906834Z",
     "iopub.status.idle": "2022-06-12T16:00:14.915800Z",
     "shell.execute_reply": "2022-06-12T16:00:14.914684Z"
    },
    "papermill": {
     "duration": 0.028512,
     "end_time": "2022-06-12T16:00:14.918284",
     "exception": false,
     "start_time": "2022-06-12T16:00:14.889772",
     "status": "completed"
    },
    "tags": []
   },
   "outputs": [],
   "source": [
    "Total_sales"
   ]
  },
  {
   "cell_type": "code",
   "execution_count": null,
   "id": "7b72b9c3",
   "metadata": {
    "execution": {
     "iopub.execute_input": "2022-06-12T16:00:14.951730Z",
     "iopub.status.busy": "2022-06-12T16:00:14.951325Z",
     "iopub.status.idle": "2022-06-12T16:00:15.901783Z",
     "shell.execute_reply": "2022-06-12T16:00:15.900673Z"
    },
    "papermill": {
     "duration": 0.969777,
     "end_time": "2022-06-12T16:00:15.903946",
     "exception": false,
     "start_time": "2022-06-12T16:00:14.934169",
     "status": "completed"
    },
    "tags": []
   },
   "outputs": [],
   "source": [
    "y = Total_sales.copy()\n",
    "\n",
    "\n",
    "from statsmodels.tsa.deterministic import CalendarFourier, DeterministicProcess\n",
    "fourier = CalendarFourier(freq=\"M\", order=4)  # 4 sin/cos pairs for \"M\"onthly seasonality\n",
    "\n",
    "dp = DeterministicProcess(\n",
    "    index=y.index,\n",
    "    constant=True,\n",
    "    order=1,\n",
    "    seasonal=True,               # weekly seasonality (indicators)\n",
    "    additional_terms=[fourier],  # Monthly seasonality (fourier)\n",
    "    drop=True,\n",
    ")\n",
    "X = dp.in_sample()  # create features for dates in average_sales.index\n",
    "\n",
    "# Now fit the seasonal model.\n",
    "# With our feature set created, we're ready to fit the model and make predictions. \n",
    "# We'll add a 16-day forecast to see how our model extrapolates beyond the training data. \n",
    "from sklearn.linear_model import LinearRegression\n",
    "model = LinearRegression().fit(X, y)\n",
    "\n",
    "y_pred = pd.Series(model.predict(X), index=X.index)\n",
    "X_fore = dp.out_of_sample(steps=16)\n",
    "y_fore = pd.Series(model.predict(X_fore), index=X_fore.index)\n",
    "from learntools.time_series.style import *\n",
    "ax = y.plot(**plot_params, alpha=0.5, title=\"Total Sales\", ylabel=\"items sold\")\n",
    "ax = y_pred.plot(ax=ax, label=\"Seasonal\")\n",
    "ax = y_fore.plot(ax=ax, label=\"Seasonal Forecast\", color='C3')\n",
    "ax.legend();"
   ]
  },
  {
   "cell_type": "markdown",
   "id": "c962dfb2",
   "metadata": {
    "papermill": {
     "duration": 0.016562,
     "end_time": "2022-06-12T16:00:15.937137",
     "exception": false,
     "start_time": "2022-06-12T16:00:15.920575",
     "status": "completed"
    },
    "tags": []
   },
   "source": [
    "## **Create Seasonal Model for the full Store Sales dataset**"
   ]
  },
  {
   "cell_type": "markdown",
   "id": "4b2a8de6",
   "metadata": {
    "papermill": {
     "duration": 0.016338,
     "end_time": "2022-06-12T16:00:15.970531",
     "exception": false,
     "start_time": "2022-06-12T16:00:15.954193",
     "status": "completed"
    },
    "tags": []
   },
   "source": [
    "Next, create a seasonal model of the same kind as above, but for the full Store Sales dataset with all 1800 time series."
   ]
  },
  {
   "cell_type": "code",
   "execution_count": null,
   "id": "4fbdffd3",
   "metadata": {
    "execution": {
     "iopub.execute_input": "2022-06-12T16:00:16.005523Z",
     "iopub.status.busy": "2022-06-12T16:00:16.005127Z",
     "iopub.status.idle": "2022-06-12T16:00:17.866173Z",
     "shell.execute_reply": "2022-06-12T16:00:17.865373Z"
    },
    "papermill": {
     "duration": 1.880808,
     "end_time": "2022-06-12T16:00:17.868061",
     "exception": false,
     "start_time": "2022-06-12T16:00:15.987253",
     "status": "completed"
    },
    "tags": []
   },
   "outputs": [],
   "source": [
    "store_sales.unstack(['store_nbr', 'family'])"
   ]
  },
  {
   "cell_type": "markdown",
   "id": "04e72d17",
   "metadata": {
    "papermill": {
     "duration": 0.016712,
     "end_time": "2022-06-12T16:00:17.901386",
     "exception": false,
     "start_time": "2022-06-12T16:00:17.884674",
     "status": "completed"
    },
    "tags": []
   },
   "source": [
    "### **ARIMA**"
   ]
  },
  {
   "cell_type": "code",
   "execution_count": null,
   "id": "29b8fcb9",
   "metadata": {
    "execution": {
     "iopub.execute_input": "2022-06-12T16:00:17.937529Z",
     "iopub.status.busy": "2022-06-12T16:00:17.936905Z",
     "iopub.status.idle": "2022-06-12T16:00:33.915472Z",
     "shell.execute_reply": "2022-06-12T16:00:33.914549Z"
    },
    "papermill": {
     "duration": 15.999343,
     "end_time": "2022-06-12T16:00:33.917682",
     "exception": false,
     "start_time": "2022-06-12T16:00:17.918339",
     "status": "completed"
    },
    "tags": []
   },
   "outputs": [],
   "source": [
    "X = Total_sales.values\n",
    "size = int(len(X) * 0.66)\n",
    "train, test = X[0:size], X[size:len(X)]\n",
    "history = [x for x in train]\n",
    "predictions = list()\n",
    "# walk-forward validation\n",
    "from statsmodels.tsa.arima.model import ARIMA\n",
    "for t in range(len(test)):\n",
    "    model = ARIMA(history, order=(5,1,0))\n",
    "    model_fit = model.fit()\n",
    "    output = model_fit.forecast()\n",
    "    yhat = output[0]\n",
    "    predictions.append(yhat)\n",
    "    obs = test[t]\n",
    "    history.append(obs)\n",
    "    print('predicted=%f, expected=%f' % (yhat, obs))\n",
    "# evaluate forecasts\n",
    "from sklearn.metrics import mean_squared_error\n",
    "from math import sqrt\n",
    "rmse = sqrt(mean_squared_error(test, predictions))\n",
    "print('Test RMSE: %.3f' % rmse)\n",
    "# plot forecasts against actual outcomes\n",
    "plt.plot(test)\n",
    "plt.plot(predictions, color='red')\n",
    "plt.show()"
   ]
  },
  {
   "cell_type": "markdown",
   "id": "5296b837",
   "metadata": {
    "papermill": {
     "duration": 0.021307,
     "end_time": "2022-06-12T16:00:33.960473",
     "exception": false,
     "start_time": "2022-06-12T16:00:33.939166",
     "status": "completed"
    },
    "tags": []
   },
   "source": [
    "### **Deterministic with CalendarFourier**"
   ]
  },
  {
   "cell_type": "code",
   "execution_count": null,
   "id": "288000ea",
   "metadata": {
    "execution": {
     "iopub.execute_input": "2022-06-12T16:00:34.007227Z",
     "iopub.status.busy": "2022-06-12T16:00:34.006711Z",
     "iopub.status.idle": "2022-06-12T16:00:35.896105Z",
     "shell.execute_reply": "2022-06-12T16:00:35.894829Z"
    },
    "papermill": {
     "duration": 1.91798,
     "end_time": "2022-06-12T16:00:35.900373",
     "exception": false,
     "start_time": "2022-06-12T16:00:33.982393",
     "status": "completed"
    },
    "tags": []
   },
   "outputs": [],
   "source": [
    "y = store_sales.unstack(['store_nbr', 'family']).loc[\"2017\"]\n",
    "from statsmodels.tsa.deterministic import CalendarFourier, DeterministicProcess\n",
    "# Create training data\n",
    "fourier = CalendarFourier(freq='M', order=4) # 4 sin/cos pairs for \"M\"onthly seasonality\n",
    "dp = DeterministicProcess(\n",
    "    index=y.index,\n",
    "    constant=True,\n",
    "    order=1,\n",
    "    seasonal=True,\n",
    "    additional_terms=[fourier],\n",
    "    drop=True,\n",
    ")\n",
    "X = dp.in_sample()\n",
    "\n",
    "from sklearn.linear_model import LinearRegression\n",
    "model = LinearRegression(fit_intercept=False)\n",
    "model.fit(X, y)\n",
    "y_pred = pd.DataFrame(model.predict(X), index=X.index, columns=y.columns)"
   ]
  },
  {
   "cell_type": "markdown",
   "id": "547c979c",
   "metadata": {
    "papermill": {
     "duration": 0.029459,
     "end_time": "2022-06-12T16:00:36.031994",
     "exception": false,
     "start_time": "2022-06-12T16:00:36.002535",
     "status": "completed"
    },
    "tags": []
   },
   "source": [
    "### **Deterministic with Fourier**"
   ]
  },
  {
   "cell_type": "code",
   "execution_count": null,
   "id": "0d8b2858",
   "metadata": {
    "execution": {
     "iopub.execute_input": "2022-06-12T16:00:36.084780Z",
     "iopub.status.busy": "2022-06-12T16:00:36.084236Z",
     "iopub.status.idle": "2022-06-12T16:00:37.917751Z",
     "shell.execute_reply": "2022-06-12T16:00:37.916252Z"
    },
    "papermill": {
     "duration": 1.866766,
     "end_time": "2022-06-12T16:00:37.921547",
     "exception": false,
     "start_time": "2022-06-12T16:00:36.054781",
     "status": "completed"
    },
    "tags": []
   },
   "outputs": [],
   "source": [
    "y = store_sales.unstack(['store_nbr', 'family']).loc[\"2017\"]\n",
    "from statsmodels.tsa.deterministic import CalendarFourier, DeterministicProcess\n",
    "from statsmodels.tsa.deterministic import Fourier\n",
    "\n",
    "# Create training data\n",
    "fourier = Fourier(period = 30, order=1)  \n",
    "dp = DeterministicProcess(\n",
    "    index=y.index,\n",
    "    constant=True,\n",
    "    order=1,\n",
    "    seasonal=True,\n",
    "    additional_terms=[fourier],\n",
    "    drop=True,\n",
    ")\n",
    "X = dp.in_sample()\n",
    "\n",
    "from sklearn.linear_model import LinearRegression\n",
    "model = LinearRegression(fit_intercept=False)\n",
    "model.fit(X, y)\n",
    "y_pred = pd.DataFrame(model.predict(X), index=X.index, columns=y.columns)"
   ]
  },
  {
   "cell_type": "markdown",
   "id": "6e71a02b",
   "metadata": {
    "papermill": {
     "duration": 0.049522,
     "end_time": "2022-06-12T16:00:38.043256",
     "exception": false,
     "start_time": "2022-06-12T16:00:37.993734",
     "status": "completed"
    },
    "tags": []
   },
   "source": [
    "Next, create a feature set for the forecast period, and then creates the submission file `submission.csv`."
   ]
  },
  {
   "cell_type": "code",
   "execution_count": null,
   "id": "d27f50ef",
   "metadata": {
    "execution": {
     "iopub.execute_input": "2022-06-12T16:00:38.090009Z",
     "iopub.status.busy": "2022-06-12T16:00:38.088960Z",
     "iopub.status.idle": "2022-06-12T16:00:38.671580Z",
     "shell.execute_reply": "2022-06-12T16:00:38.670535Z"
    },
    "papermill": {
     "duration": 0.608431,
     "end_time": "2022-06-12T16:00:38.674297",
     "exception": false,
     "start_time": "2022-06-12T16:00:38.065866",
     "status": "completed"
    },
    "tags": []
   },
   "outputs": [],
   "source": [
    "# Create features for test set\n",
    "X_test = dp.out_of_sample(steps=16)\n",
    "X_test.index.name = 'date'\n",
    "\n",
    "y_submit = pd.DataFrame(model.predict(X_test), index=X_test.index, columns=y.columns)\n",
    "y_submit = y_submit.stack(['store_nbr', 'family'])\n",
    "y_submit = y_submit.join(store_sales_test.id).reindex(columns=['id', 'sales'])\n",
    "y_submit.to_csv('submission.csv', index=False)"
   ]
  }
 ],
 "metadata": {
  "kernelspec": {
   "display_name": "Python 3 (ipykernel)",
   "language": "python",
   "name": "python3"
  },
  "language_info": {
   "codemirror_mode": {
    "name": "ipython",
    "version": 3
   },
   "file_extension": ".py",
   "mimetype": "text/x-python",
   "name": "python",
   "nbconvert_exporter": "python",
   "pygments_lexer": "ipython3",
   "version": "3.11.2"
  },
  "papermill": {
   "default_parameters": {},
   "duration": 60.662286,
   "end_time": "2022-06-12T16:00:39.518484",
   "environment_variables": {},
   "exception": null,
   "input_path": "__notebook__.ipynb",
   "output_path": "__notebook__.ipynb",
   "parameters": {},
   "start_time": "2022-06-12T15:59:38.856198",
   "version": "2.3.4"
  }
 },
 "nbformat": 4,
 "nbformat_minor": 5
}
